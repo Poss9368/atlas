{
 "cells": [
  {
   "cell_type": "code",
   "execution_count": 105,
   "metadata": {},
   "outputs": [],
   "source": [
    "import Atlas\n",
    "import Atlas.visitors as Visitors\n",
    "import pandas as pd"
   ]
  },
  {
   "cell_type": "code",
   "execution_count": 106,
   "metadata": {},
   "outputs": [],
   "source": [
    "try:\n",
    "    tape = Atlas.Tape()\n",
    "except:\n",
    "    pass"
   ]
  },
  {
   "cell_type": "code",
   "execution_count": 107,
   "metadata": {},
   "outputs": [],
   "source": [
    "evalDate = Atlas.Date(1, Atlas.August, 2020)\n",
    "store = Atlas.MarketStore(evalDate, Atlas.CLP()) # store with CLP as base currency\n",
    "\n",
    "# define curve\n",
    "curveDayCounter = Atlas.Actual360()\n",
    "curveCompounding = Atlas.Simple\n",
    "curveFrequency = Atlas.Annual\n",
    "\n",
    "clpRate = Atlas.Dual(0.03)\n",
    "usdRate = Atlas.Dual(0.01)\n",
    "fxSpot = 800\n",
    "fx = Atlas.Dual(fxSpot)\n",
    "\n",
    "# we need to register the input to the tape for later use\n",
    "tape.registerInput(clpRate) \n",
    "tape.registerInput(usdRate) \n",
    "tape.registerInput(fx) \n",
    "tape.newRecording() # start recording, for later use\n",
    "\n",
    "\n",
    "# add CLP Curve\n",
    "strategy = Atlas.FlatForwardStrategy(evalDate, clpRate, curveDayCounter, curveCompounding, curveFrequency)\n",
    "clpCurve = Atlas.YieldTermStructure(strategy)\n",
    "index = Atlas.RateIndex(evalDate, curveFrequency, curveDayCounter, curveFrequency, curveCompounding)\n",
    "store.addCurve(\"CLP\", clpCurve, index, Atlas.CLP())\n",
    "\n",
    "# add USD Curve\n",
    "strategy = Atlas.FlatForwardStrategy(evalDate, usdRate, curveDayCounter, curveCompounding, curveFrequency)\n",
    "usdCurve = Atlas.YieldTermStructure(strategy)\n",
    "store.addCurve(\"USD\", usdCurve, index, Atlas.USD())\n",
    "\n",
    "# add FX\n",
    "store.addExchangeRate(Atlas.CLP(), Atlas.USD(), fx)"
   ]
  },
  {
   "cell_type": "code",
   "execution_count": 108,
   "metadata": {},
   "outputs": [],
   "source": [
    "#define interest rate\n",
    "rateValue = Atlas.Dual(0.05)\n",
    "dayCounter = Atlas.Thirty360()\n",
    "compounding = Atlas.Simple\n",
    "frequency = Atlas.Annual\n",
    "\n",
    "rate = Atlas.InterestRate(rateValue, dayCounter, compounding, frequency)\n",
    "discountContext = store.curveContext(\"CLP\")\n",
    "# define zero coupon instrument\n",
    "notional = fxSpot\n",
    "startDate = evalDate\n",
    "endDate = Atlas.Date(1, Atlas.August, 2025)\n",
    "paymentFrequency = Atlas.Semiannual\n",
    "instrument = Atlas.FixedRateBulletInstrument(startDate, endDate, paymentFrequency, notional, rate, discountContext)"
   ]
  },
  {
   "cell_type": "code",
   "execution_count": 109,
   "metadata": {},
   "outputs": [
    {
     "data": {
      "text/plain": [
       "Dual(879.192194)"
      ]
     },
     "execution_count": 109,
     "metadata": {},
     "output_type": "execute_result"
    }
   ],
   "source": [
    "newIndexer = Visitors.IndexingVisitor()\n",
    "newIndexer(instrument)\n",
    "request  = newIndexer.getResults()\n",
    "\n",
    "model = Atlas.SpotMarketDataModel(request, store) ## maybe add a setRequest method\n",
    "marketData = model.marketData(evalDate)\n",
    "\n",
    "newNPVVisitor = Visitors.NPVConstVisitor(marketData)\n",
    "newNPVVisitor.visit(instrument)\n",
    "\n",
    "newNPVVisitor.getResults()"
   ]
  },
  {
   "cell_type": "code",
   "execution_count": 110,
   "metadata": {},
   "outputs": [
    {
     "name": "stdout",
     "output_type": "stream",
     "text": [
      "Dual(1.000000)\n",
      "\n",
      "Dual(1.000000)\n",
      "Dual(0.984898)\n",
      "Dual(0.970481)\n",
      "Dual(0.956251)\n",
      "Dual(0.942655)\n",
      "Dual(0.929224)\n",
      "Dual(0.916380)\n",
      "Dual(0.903683)\n",
      "Dual(0.891464)\n",
      "Dual(0.879443)\n",
      "Dual(0.867930)\n"
     ]
    }
   ],
   "source": [
    "for fx in marketData.fxs:\n",
    "    print(fx)\n",
    "\n",
    "print(\"\")\n",
    "for df in marketData.dfs:\n",
    "    print(df)"
   ]
  },
  {
   "cell_type": "code",
   "execution_count": 111,
   "metadata": {},
   "outputs": [
    {
     "data": {
      "text/plain": [
       "Dual(955.989505)"
      ]
     },
     "execution_count": 111,
     "metadata": {},
     "output_type": "execute_result"
    }
   ],
   "source": [
    "newNotional = 1\n",
    "instrument = Atlas.FixedRateBulletInstrument(startDate, endDate, paymentFrequency, newNotional, rate, discountContext)\n",
    "\n",
    "\n",
    "instrument.currency(Atlas.USD())\n",
    "instrument.discountCurveContext(store.curveContext(\"USD\"))\n",
    "instrument.applyCcy(False)\n",
    "\n",
    "\n",
    "newIndexer = Visitors.IndexingVisitor()\n",
    "newIndexer(instrument)\n",
    "request  = newIndexer.getResults()\n",
    "\n",
    "model = Atlas.SpotMarketDataModel(request, store) ## maybe add a setRequest method\n",
    "marketData = model.marketData(evalDate)\n",
    "\n",
    "newNPVVisitor = Visitors.NPVConstVisitor(marketData)\n",
    "newNPVVisitor.visit(instrument)\n",
    "\n",
    "newNPVVisitor.getResults()"
   ]
  },
  {
   "cell_type": "code",
   "execution_count": 112,
   "metadata": {},
   "outputs": [
    {
     "name": "stdout",
     "output_type": "stream",
     "text": [
      "Dual(0.001250)\n",
      "\n",
      "Dual(1.000000)\n",
      "Dual(0.994915)\n",
      "Dual(0.989963)\n",
      "Dual(0.984979)\n",
      "Dual(0.980125)\n",
      "Dual(0.975240)\n",
      "Dual(0.970481)\n",
      "Dual(0.965691)\n",
      "Dual(0.960999)\n",
      "Dual(0.956302)\n",
      "Dual(0.951726)\n"
     ]
    }
   ],
   "source": [
    "for fx in marketData.fxs:\n",
    "    print(fx)\n",
    "\n",
    "print(\"\")\n",
    "for df in marketData.dfs:\n",
    "    print(df)"
   ]
  },
  {
   "cell_type": "code",
   "execution_count": 113,
   "metadata": {},
   "outputs": [
    {
     "data": {
      "text/plain": [
       "Dual(955.989505)"
      ]
     },
     "execution_count": 113,
     "metadata": {},
     "output_type": "execute_result"
    }
   ],
   "source": [
    "newNotional = 1\n",
    "instrument = Atlas.FixedRateBulletInstrument(startDate, endDate, paymentFrequency, newNotional, rate, discountContext)\n",
    "\n",
    "\n",
    "instrument.currency(Atlas.USD())\n",
    "instrument.discountCurveContext(store.curveContext(\"CLP\"))\n",
    "instrument.applyCcy(True)\n",
    "\n",
    "\n",
    "newIndexer = Visitors.IndexingVisitor()\n",
    "newIndexer(instrument)\n",
    "request  = newIndexer.getResults()\n",
    "\n",
    "model = Atlas.SpotMarketDataModel(request, store) ## maybe add a setRequest method\n",
    "marketData = model.marketData(evalDate)\n",
    "\n",
    "newNPVVisitor = Visitors.NPVConstVisitor(marketData)\n",
    "newNPVVisitor.visit(instrument)\n",
    "\n",
    "newNPVVisitor.getResults()"
   ]
  }
 ],
 "metadata": {
  "kernelspec": {
   "display_name": "Python 3",
   "language": "python",
   "name": "python3"
  },
  "language_info": {
   "codemirror_mode": {
    "name": "ipython",
    "version": 3
   },
   "file_extension": ".py",
   "mimetype": "text/x-python",
   "name": "python",
   "nbconvert_exporter": "python",
   "pygments_lexer": "ipython3",
   "version": "3.10.10"
  },
  "orig_nbformat": 4
 },
 "nbformat": 4,
 "nbformat_minor": 2
}
