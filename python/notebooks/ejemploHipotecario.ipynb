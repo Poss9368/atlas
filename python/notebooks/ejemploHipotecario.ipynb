{
 "cells": [
  {
   "cell_type": "code",
   "execution_count": 2,
   "metadata": {},
   "outputs": [],
   "source": [
    "import QuantLib as ql\n",
    "import atlaspython\n",
    "import requests\n",
    "from datetime import date, datetime\n",
    "from dateutil.relativedelta import relativedelta\n",
    "import pandas as pd\n",
    "import matplotlib.pyplot as plt\n",
    "import xlwings as xw\n",
    "from tqdm import tqdm"
   ]
  },
  {
   "cell_type": "markdown",
   "metadata": {},
   "source": [
    "#### base request"
   ]
  },
  {
   "cell_type": "code",
   "execution_count": 3,
   "metadata": {},
   "outputs": [],
   "source": [
    "today = date(2022, 9, 29)\n",
    "endDate = today + relativedelta(years=20)"
   ]
  },
  {
   "cell_type": "code",
   "execution_count": 4,
   "metadata": {},
   "outputs": [],
   "source": [
    "response = requests.post('http://10.191.199.13:5000/discounts', \n",
    "            json ={'REFDATE': today.strftime('%d%m%Y'), 'CURVE': 'UF_LOC'})\n",
    "data = response.json()\n",
    "\n",
    "dates = [datetime.strptime(d, '%d%m%Y') for d in response.json()['DATES']]\n",
    "values = [ v for v in response.json()['VALUES']]\n",
    "data = sorted(zip(dates, values))\n",
    "\n",
    "dates = [d for d, v in data]\n",
    "values = [v for d, v in data]\n",
    "nodes = {d.strftime('%d%m%Y'):k for d,k in zip(dates, values)}\n",
    "\n",
    "qlDates = [ql.Date(d.day, d.month, d.year) for d in dates]\n",
    "curve = ql.DiscountCurve(qlDates, values, ql.Actual360())"
   ]
  },
  {
   "cell_type": "code",
   "execution_count": 5,
   "metadata": {},
   "outputs": [],
   "source": [
    "baseData = {    \n",
    "    'REFDATE': today.strftime('%d%m%Y'),\n",
    "    'ENDDATE': endDate.strftime('%d%m%Y'),\n",
    "    'AMOUNT': 100,\n",
    "    'RATE': {\n",
    "        'COMPOUNDING':'COMPOUNDED',\n",
    "        'FREQUENCY':'ANNUAL',\n",
    "        'DAYCOUNTER': 'THIRTY360',\n",
    "    },\n",
    "    'DISCOUNTCURVE': {   \n",
    "        'NODES': nodes,\n",
    "        'REFDATE': today.strftime('%d%m%Y')\n",
    "    },    \n",
    "}"
   ]
  },
  {
   "cell_type": "code",
   "execution_count": 7,
   "metadata": {},
   "outputs": [
    {
     "data": {
      "text/plain": [
       "{'REFDATE': '29092022',\n",
       " 'ENDDATE': '29092042',\n",
       " 'AMOUNT': 100,\n",
       " 'RATE': {'COMPOUNDING': 'COMPOUNDED',\n",
       "  'FREQUENCY': 'ANNUAL',\n",
       "  'DAYCOUNTER': 'THIRTY360'},\n",
       " 'DISCOUNTCURVE': {'NODES': {'29092022': 1.0,\n",
       "   '29102022': 1.0006091346648796,\n",
       "   '29112022': 0.9995116463503521,\n",
       "   '29122022': 0.9956162684197744,\n",
       "   '29012023': 0.9898743540637329,\n",
       "   '28022023': 0.9846490128708598,\n",
       "   '29032023': 0.9799386779078471,\n",
       "   '29042023': 0.9755417935563099,\n",
       "   '29052023': 0.9704035848638434,\n",
       "   '29062023': 0.9639988728734455,\n",
       "   '29072023': 0.9577617422830275,\n",
       "   '29082023': 0.9529923241668972,\n",
       "   '29092023': 0.9488875140554606,\n",
       "   '29102023': 0.9462965809521048,\n",
       "   '29112023': 0.9430938271308088,\n",
       "   '29122023': 0.9401542546822409,\n",
       "   '29012024': 0.9364644052740585,\n",
       "   '29022024': 0.9339402486705514,\n",
       "   '29032024': 0.9293948338019126,\n",
       "   '29042024': 0.9282909139015504,\n",
       "   '29052024': 0.9241783680872598,\n",
       "   '29062024': 0.919947877107844,\n",
       "   '29072024': 0.915872292897433,\n",
       "   '29082024': 0.9116798235568891,\n",
       "   '28022025': 0.8962676514155241,\n",
       "   '29082025': 0.8832802952647351,\n",
       "   '28022026': 0.8721006633904059,\n",
       "   '29082026': 0.861515259687332,\n",
       "   '28022027': 0.8522808849729008,\n",
       "   '29082027': 0.8435145289060354,\n",
       "   '29022028': 0.833233414161244,\n",
       "   '29082028': 0.8228287898496381,\n",
       "   '28022029': 0.8151345169582772,\n",
       "   '29082029': 0.8081692100069666,\n",
       "   '28022030': 0.7997572956901206,\n",
       "   '29082030': 0.7911368054130034,\n",
       "   '28022031': 0.7828566998100518,\n",
       "   '29082031': 0.7747762520196545,\n",
       "   '29022032': 0.7652832938138119,\n",
       "   '29082032': 0.7556850223316777,\n",
       "   '28022033': 0.744108431134359,\n",
       "   '29082033': 0.7322808777787178,\n",
       "   '28022034': 0.7205778827626631,\n",
       "   '29082034': 0.709124345887294,\n",
       "   '28022035': 0.6977914285088478,\n",
       "   '29082035': 0.6867000807879035,\n",
       "   '29022036': 0.6756660525001026,\n",
       "   '29082036': 0.6649263861394383,\n",
       "   '28022037': 0.6542998213619474,\n",
       "   '29082037': 0.6438997698050157,\n",
       "   '28022038': 0.633622344896025,\n",
       "   '29082038': 0.6235670333606333,\n",
       "   '28022039': 0.6136173591689196,\n",
       "   '29082039': 0.6038795180721377,\n",
       "   '29022040': 0.5941917504913947,\n",
       "   '29082040': 0.5847621853709742,\n",
       "   '28022041': 0.5754316837363393,\n",
       "   '29082041': 0.566299832730906,\n",
       "   '28022042': 0.5572639175380707,\n",
       "   '29082042': 0.5484203810949272,\n",
       "   '28022043': 0.5380685729569807,\n",
       "   '29082043': 0.5275982970552625,\n",
       "   '29022044': 0.5172200601035918,\n",
       "   '29082044': 0.5071554753956854,\n",
       "   '28022045': 0.49723304752306635,\n",
       "   '29082045': 0.48755739007589777,\n",
       "   '28022046': 0.47801839607604774,\n",
       "   '29082046': 0.46871663651497936,\n",
       "   '28022047': 0.4595462592950786,\n",
       "   '29082047': 0.45060394902785794,\n",
       "   '29022048': 0.4404764243971772,\n",
       "   '29082048': 0.43039631411311946,\n",
       "   '28022049': 0.4204933923995975,\n",
       "   '29082049': 0.4108705850611426,\n",
       "   '28022050': 0.40141692780426363,\n",
       "   '29082050': 0.3922306770129928,\n",
       "   '28022051': 0.38320590249533637,\n",
       "   '29082051': 0.37443640305177056,\n",
       "   '29022052': 0.36577452457309756,\n",
       "   '29082052': 0.3574039345878523,\n",
       "   '28022053': 0.3491804831588561,\n",
       "   '29082053': 0.3411896405522423,\n",
       "   '28022054': 0.33333926128768954},\n",
       "  'REFDATE': '29092022'},\n",
       " 'STARTDATE': '29092022',\n",
       " 'PAYMENTFREQUENCY': 'ANNUAL'}"
      ]
     },
     "execution_count": 7,
     "metadata": {},
     "output_type": "execute_result"
    }
   ],
   "source": [
    "baseData"
   ]
  },
  {
   "cell_type": "markdown",
   "metadata": {},
   "source": [
    "### progressive maturity"
   ]
  },
  {
   "cell_type": "code",
   "execution_count": 6,
   "metadata": {},
   "outputs": [
    {
     "name": "stderr",
     "output_type": "stream",
     "text": [
      "100%|██████████| 235/235 [00:01<00:00, 150.48it/s]\n",
      "100%|██████████| 235/235 [00:00<00:00, 1678.33it/s]\n",
      "100%|██████████| 235/235 [00:00<00:00, 3238.62it/s]\n",
      "100%|██████████| 235/235 [00:00<00:00, 4796.08it/s]\n",
      "100%|██████████| 4/4 [00:01<00:00,  2.17it/s]\n"
     ]
    }
   ],
   "source": [
    "\n",
    "paymentFrequencies = ['MONTHLY', 'QUARTERLY', 'SEMIANNUAL', 'ANNUAL']\n",
    "baseData['STARTDATE'] = today.strftime('%d%m%Y')\n",
    "results = {}\n",
    "t = [i for i in range(6, 20*12+1)]\n",
    "for freq in tqdm(paymentFrequencies):\n",
    "    equalPayment = []\n",
    "    bullet = []    \n",
    "    for i in tqdm(range(6, 20*12+1)):        \n",
    "        endDate = today+relativedelta(months=i)\n",
    "        baseData['ENDDATE'] = endDate.strftime('%d%m%Y')\n",
    "        baseData['PAYMENTFREQUENCY'] = freq\n",
    "        equalPayment.append(atlaspython.equalPaymentParRate(baseData)*100)\n",
    "        bullet.append(atlaspython.fixedBulletParRate(baseData)*100)\n",
    "\n",
    "    results[freq] = pd.DataFrame({'t':t, 'EQUALPAYMENT': equalPayment, 'BULLET': bullet})"
   ]
  },
  {
   "cell_type": "code",
   "execution_count": 7,
   "metadata": {},
   "outputs": [
    {
     "data": {
      "image/png": "[encoded data removed]",
      "text/plain": [
       "<Figure size 432x288 with 1 Axes>"
      ]
     },
     "metadata": {
      "needs_background": "light"
     },
     "output_type": "display_data"
    }
   ],
   "source": [
    "plt.plot(results['MONTHLY'].EQUALPAYMENT, label='EQUALPAYMENT')\n",
    "plt.plot(results['MONTHLY'].BULLET, label='BULLET')\n",
    "plt.legend()\n",
    "plt.show()"
   ]
  },
  {
   "cell_type": "code",
   "execution_count": 8,
   "metadata": {},
   "outputs": [
    {
     "name": "stderr",
     "output_type": "stream",
     "text": [
      "100%|██████████| 60/60 [00:01<00:00, 37.68it/s]\n"
     ]
    }
   ],
   "source": [
    "evalDates = []\n",
    "values = []\n",
    "\n",
    "endDate = today + relativedelta(years=20)\n",
    "baseData['PAYMENTFREQUENCY'] = 'MONTHLY'\n",
    "for i in tqdm(range(0, 60)):\n",
    "    evalDate = today+relativedelta(months=i)\n",
    "    endDate = today+relativedelta(years=20, months=i)\n",
    "    evalDates.append(evalDate)    \n",
    "    baseData['STARTDATE'] = evalDate.strftime('%d%m%Y')\n",
    "    baseData['ENDDATE'] = endDate.strftime('%d%m%Y')\n",
    "    values.append(atlaspython.equalPaymentParRate(baseData)*100)\n",
    "\n",
    "df = pd.DataFrame({'Date': evalDates, 'Value': values})"
   ]
  }
 ],
 "metadata": {
  "kernelspec": {
   "display_name": "Python 3.7.13 ('py37_2')",
   "language": "python",
   "name": "python3"
  },
  "language_info": {
   "codemirror_mode": {
    "name": "ipython",
    "version": 3
   },
   "file_extension": ".py",
   "mimetype": "text/x-python",
   "name": "python",
   "nbconvert_exporter": "python",
   "pygments_lexer": "ipython3",
   "version": "3.7.13"
  },
  "orig_nbformat": 4,
  "vscode": {
   "interpreter": {
    "hash": "7a726581064f8bda66a3d523cab91f3975fb7c4b88dcb3c26378cbd236973200"
   }
  }
 },
 "nbformat": 4,
 "nbformat_minor": 2
}
