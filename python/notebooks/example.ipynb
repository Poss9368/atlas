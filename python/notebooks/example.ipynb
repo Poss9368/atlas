{
 "cells": [
  {
   "cell_type": "code",
   "execution_count": 1,
   "metadata": {},
   "outputs": [],
   "source": [
    "import Atlas\n",
    "import pandas as pd"
   ]
  },
  {
   "attachments": {},
   "cell_type": "markdown",
   "metadata": {},
   "source": [
    "#### Initialize market variables"
   ]
  },
  {
   "attachments": {},
   "cell_type": "markdown",
   "metadata": {},
   "source": [
    "Atlas has tape-based AD, so later we will use the tape."
   ]
  },
  {
   "cell_type": "code",
   "execution_count": 2,
   "metadata": {},
   "outputs": [],
   "source": [
    "tape = Atlas.Tape()"
   ]
  },
  {
   "cell_type": "code",
   "execution_count": 3,
   "metadata": {},
   "outputs": [],
   "source": [
    "evalDate = Atlas.Date(1, Atlas.August, 2020)\n",
    "store = Atlas.MarketStore(evalDate, Atlas.CLP()) # store with CLP as base currency\n",
    "\n",
    "# define curve\n",
    "curveRate = Atlas.dual(0.03)\n",
    "tape.registerInput(curveRate) # we need to register the input to the tape for later use\n",
    "tape.newRecording() # start recording, for later use\n",
    "\n",
    "curveDayCounter = Atlas.Actual360()\n",
    "curveCompounding = Atlas.Simple\n",
    "curveFrequency = Atlas.Annual\n",
    "strategy = Atlas.FlatForwardStrategy(evalDate, curveRate, curveDayCounter, curveCompounding, curveFrequency)\n",
    "curve = Atlas.YieldTermStructure(strategy)\n",
    "\n",
    "# define rate index\n",
    "index = Atlas.RateIndex(evalDate, curveFrequency, curveDayCounter, curveFrequency, curveCompounding)\n",
    "\n",
    "# add curve\n",
    "store.addCurve(\"ExampleCurve\", curve, index)\n"
   ]
  },
  {
   "attachments": {},
   "cell_type": "markdown",
   "metadata": {},
   "source": [
    "#### Create an instrument\n",
    "\n",
    "We initialize the instrument with the corresponding discount curve id (passing the context parameter). As default, instrument coupon's are set as \"local\" currency, meaning that their current currency will match the store local currency."
   ]
  },
  {
   "cell_type": "code",
   "execution_count": 4,
   "metadata": {},
   "outputs": [],
   "source": [
    "#define interest rate\n",
    "rateValue = Atlas.dual(0.05)\n",
    "dayCounter = Atlas.Thirty360()\n",
    "compounding = Atlas.Simple\n",
    "frequency = Atlas.Annual\n",
    "\n",
    "rate = Atlas.InterestRate(rateValue, dayCounter, compounding, frequency)\n",
    "discountContext = store.curveContext(\"ExampleCurve\")\n",
    "# define zero coupon instrument\n",
    "notional = 100\n",
    "startDate = evalDate\n",
    "endDate = Atlas.Date(1, Atlas.August, 2025)\n",
    "paymentFrequency = Atlas.Semiannual\n",
    "instrument = Atlas.FixedRateBulletInstrument(startDate, endDate, paymentFrequency, notional, rate, discountContext)"
   ]
  },
  {
   "attachments": {},
   "cell_type": "markdown",
   "metadata": {},
   "source": [
    "#### Inspect the cashflows\n",
    "We can use the CashflowProfiler visitor to check the instrument cashflows."
   ]
  },
  {
   "cell_type": "code",
   "execution_count": 5,
   "metadata": {},
   "outputs": [
    {
     "data": {
      "text/html": [
       "<div>\n",
       "<style scoped>\n",
       "    .dataframe tbody tr th:only-of-type {\n",
       "        vertical-align: middle;\n",
       "    }\n",
       "\n",
       "    .dataframe tbody tr th {\n",
       "        vertical-align: top;\n",
       "    }\n",
       "\n",
       "    .dataframe thead th {\n",
       "        text-align: right;\n",
       "    }\n",
       "</style>\n",
       "<table border=\"1\" class=\"dataframe\">\n",
       "  <thead>\n",
       "    <tr style=\"text-align: right;\">\n",
       "      <th></th>\n",
       "      <th>Interest</th>\n",
       "      <th>Redemptions</th>\n",
       "    </tr>\n",
       "  </thead>\n",
       "  <tbody>\n",
       "    <tr>\n",
       "      <th>2021-2-1</th>\n",
       "      <td>2.5</td>\n",
       "      <td>NaN</td>\n",
       "    </tr>\n",
       "    <tr>\n",
       "      <th>2021-8-1</th>\n",
       "      <td>2.5</td>\n",
       "      <td>NaN</td>\n",
       "    </tr>\n",
       "    <tr>\n",
       "      <th>2022-2-1</th>\n",
       "      <td>2.5</td>\n",
       "      <td>NaN</td>\n",
       "    </tr>\n",
       "    <tr>\n",
       "      <th>2022-8-1</th>\n",
       "      <td>2.5</td>\n",
       "      <td>NaN</td>\n",
       "    </tr>\n",
       "    <tr>\n",
       "      <th>2023-2-1</th>\n",
       "      <td>2.5</td>\n",
       "      <td>NaN</td>\n",
       "    </tr>\n",
       "    <tr>\n",
       "      <th>2023-8-1</th>\n",
       "      <td>2.5</td>\n",
       "      <td>NaN</td>\n",
       "    </tr>\n",
       "    <tr>\n",
       "      <th>2024-2-1</th>\n",
       "      <td>2.5</td>\n",
       "      <td>NaN</td>\n",
       "    </tr>\n",
       "    <tr>\n",
       "      <th>2024-8-1</th>\n",
       "      <td>2.5</td>\n",
       "      <td>NaN</td>\n",
       "    </tr>\n",
       "    <tr>\n",
       "      <th>2025-2-1</th>\n",
       "      <td>2.5</td>\n",
       "      <td>NaN</td>\n",
       "    </tr>\n",
       "    <tr>\n",
       "      <th>2025-8-1</th>\n",
       "      <td>2.5</td>\n",
       "      <td>NaN</td>\n",
       "    </tr>\n",
       "    <tr>\n",
       "      <th>2025-8-1</th>\n",
       "      <td>NaN</td>\n",
       "      <td>100.0</td>\n",
       "    </tr>\n",
       "  </tbody>\n",
       "</table>\n",
       "</div>"
      ],
      "text/plain": [
       "          Interest  Redemptions\n",
       "2021-2-1       2.5          NaN\n",
       "2021-8-1       2.5          NaN\n",
       "2022-2-1       2.5          NaN\n",
       "2022-8-1       2.5          NaN\n",
       "2023-2-1       2.5          NaN\n",
       "2023-8-1       2.5          NaN\n",
       "2024-2-1       2.5          NaN\n",
       "2024-8-1       2.5          NaN\n",
       "2025-2-1       2.5          NaN\n",
       "2025-8-1       2.5          NaN\n",
       "2025-8-1       NaN        100.0"
      ]
     },
     "execution_count": 5,
     "metadata": {},
     "output_type": "execute_result"
    }
   ],
   "source": [
    "profiler = Atlas.CashflowProfiler()\n",
    "profiler.visit(instrument)\n",
    "interest = profiler.interests()\n",
    "redemptions = profiler.redemptions()\n",
    "\n",
    "df = pd.DataFrame({\"Interest\": interest, \"Redemptions\": redemptions})\n",
    "df"
   ]
  },
  {
   "cell_type": "markdown",
   "metadata": {},
   "source": [
    "### Evaluation process"
   ]
  },
  {
   "attachments": {},
   "cell_type": "markdown",
   "metadata": {},
   "source": [
    "#### 1. Index the instrument\n",
    "In the indexing phase, market variables are obtained and stored in a MarketRequest object. This information will be used by a Model, which is in charge of producing all the market data needed for later calculations."
   ]
  },
  {
   "cell_type": "code",
   "execution_count": 6,
   "metadata": {},
   "outputs": [],
   "source": [
    "indexer = Atlas.Indexer()\n",
    "indexer.visit(instrument)\n",
    "request = indexer.request()"
   ]
  },
  {
   "attachments": {},
   "cell_type": "markdown",
   "metadata": {},
   "source": [
    "#### 2. Setup a model and simulate market variables\n",
    "Currently the only model available (SpotMarketDataModel), takes the market information and generates values assuming common linear product's assumptions."
   ]
  },
  {
   "cell_type": "code",
   "execution_count": 7,
   "metadata": {},
   "outputs": [],
   "source": [
    "model = Atlas.SpotMarketDataModel(request, store)\n",
    "marketData = model.marketData(evalDate)"
   ]
  },
  {
   "attachments": {},
   "cell_type": "markdown",
   "metadata": {},
   "source": [
    "#### 3. Setup a visitor and evaluate\n",
    "Visitor are the ones in charge to do evaluations. When visiting, Visitor will execute the precise code needed for each type of instrument."
   ]
  },
  {
   "attachments": {},
   "cell_type": "markdown",
   "metadata": {},
   "source": [
    "- Instrument NPV: ```NPVCalculator```\n",
    "\n",
    "This visitor calculates the NPV of each instruments and adds it to an internal variables called npv_, so if it visits many instrument, the value returned by ```results``` will be the sum of each NPV. In the case of a fixed bond, the NPV is being calculated as:\n",
    "\n",
    "$$NPV^l = \\frac{\\Sigma_{1}^{N}c_{i}^{f}df^{f}_{i}}{fx^{f/l}}$$"
   ]
  },
  {
   "cell_type": "code",
   "execution_count": 8,
   "metadata": {},
   "outputs": [
    {
     "name": "stdout",
     "output_type": "stream",
     "text": [
      "NPV: 109.8990\n"
     ]
    }
   ],
   "source": [
    "npv = Atlas.dual(0.0)\n",
    "tape.registerOutput(npv)\n",
    "\n",
    "npvCalculator = Atlas.NPVCalculator(marketData)\n",
    "npvCalculator.visit(instrument)\n",
    "npv = npvCalculator.results()\n",
    "print(\"NPV: {:.4f}\".format(Atlas.getValue(npv)))"
   ]
  },
  {
   "attachments": {},
   "cell_type": "markdown",
   "metadata": {},
   "source": [
    "If we want to calculate the insturment duration, we can use the tape (AD). In this case, the duration is being calculated as:\n",
    "\n",
    "$$Dur = \\frac{dNPV}{dr}$$"
   ]
  },
  {
   "cell_type": "code",
   "execution_count": 9,
   "metadata": {},
   "outputs": [
    {
     "name": "stdout",
     "output_type": "stream",
     "text": [
      "Derivative: 4.3928\n"
     ]
    }
   ],
   "source": [
    "npv.setDerivative(-0.0001)\n",
    "tape.computeAdjoints()\n",
    "print(\"Derivative: {:.4f}\".format(curveRate.getDerivative()*100))"
   ]
  },
  {
   "attachments": {},
   "cell_type": "markdown",
   "metadata": {},
   "source": [
    "- Fixed Income Par Rate: ```ParSolver```\n",
    "\n",
    "This visitor calculates the par rate of a given instrument (in this case, rates are not \"accumulated\" as before). The par rate is calculated, for a fixed rate instruments as follows:\n",
    "\n",
    "$$r = \\argmin_r (\\frac{\\Sigma_{1}^{T}c_{i}(r) df_{i}}{N} - df_0)^2$$\n",
    "\n",
    "Where $df_0$ helps bringing the disbursement to the current evaluation date."
   ]
  },
  {
   "cell_type": "code",
   "execution_count": 10,
   "metadata": {},
   "outputs": [
    {
     "name": "stdout",
     "output_type": "stream",
     "text": [
      "Par Rate: 2.8579%\n"
     ]
    }
   ],
   "source": [
    "parSolver = Atlas.ParSolver(marketData)\n",
    "parSolver.visit(instrument)\n",
    "rate = parSolver.results()\n",
    "print(\"Par Rate: {:.4f}%\".format(Atlas.getValue(rate)*100))"
   ]
  },
  {
   "attachments": {},
   "cell_type": "markdown",
   "metadata": {},
   "source": [
    "- Fixed Income Z-Spread: ```ZSpreadCalculator```\n",
    "\n",
    "This visitor calculates the z-spread of a fixed rate instrument (does not apply to other types of instruments). \n",
    "\n",
    "$$s = \\argmin_s ({\\Sigma_{1}^{N}c_{i} df_{i}(s)} - NPV_{target})^2$$\n",
    "\n",
    "Where $df_i$ will be calculated using the given day counter, compounding and frequency."
   ]
  },
  {
   "cell_type": "code",
   "execution_count": 12,
   "metadata": {},
   "outputs": [
    {
     "name": "stdout",
     "output_type": "stream",
     "text": [
      "Z-spread: Curve+249.0599 bps\n"
     ]
    }
   ],
   "source": [
    "targetNPV = Atlas.dual(100)\n",
    "zspreadCalculator = Atlas.ZSpreadCalculator(marketData, targetNPV, curveDayCounter, curveCompounding, curveFrequency)\n",
    "zspreadCalculator.visit(instrument)\n",
    "zspread = zspreadCalculator.results()\n",
    "print(\"Z-spread: Curve+{:.4f} bps\".format(Atlas.getValue(zspread)*10000))"
   ]
  }
 ],
 "metadata": {
  "kernelspec": {
   "display_name": "Python 3",
   "language": "python",
   "name": "python3"
  },
  "language_info": {
   "codemirror_mode": {
    "name": "ipython",
    "version": 3
   },
   "file_extension": ".py",
   "mimetype": "text/x-python",
   "name": "python",
   "nbconvert_exporter": "python",
   "pygments_lexer": "ipython3",
   "version": "3.10.10"
  },
  "orig_nbformat": 4
 },
 "nbformat": 4,
 "nbformat_minor": 2
}
