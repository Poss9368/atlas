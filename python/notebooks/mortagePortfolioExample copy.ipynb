{
 "cells": [
  {
   "cell_type": "code",
   "execution_count": 11,
   "metadata": {},
   "outputs": [],
   "source": [
    "import Atlas\n",
    "import random\n",
    "import pandas as pd\n",
    "import sys\n",
    "from tqdm import tqdm"
   ]
  },
  {
   "cell_type": "code",
   "execution_count": 12,
   "metadata": {},
   "outputs": [],
   "source": [
    "try:\n",
    "    tape = Atlas.Tape()\n",
    "except:\n",
    "    pass"
   ]
  },
  {
   "attachments": {},
   "cell_type": "markdown",
   "metadata": {},
   "source": [
    "### Market Setup\n",
    "First, we create a curve. As the time of writing, the only available curve is the ```ZeroRateCurveStrategy```. We create random rates and register them in the tape."
   ]
  },
  {
   "cell_type": "code",
   "execution_count": 13,
   "metadata": {},
   "outputs": [],
   "source": [
    "## Create Market Data\n",
    "evalDate = Atlas.Date(1, Atlas.August, 2020)\n",
    "store = Atlas.MarketStore(evalDate, Atlas.CLF()) # store with USD as base currency\n",
    "\n",
    "# create random rates\n",
    "dt = 0.5\n",
    "t = []\n",
    "rates = []\n",
    "dates = []\n",
    "startRate = 0.01\n",
    "for i in range(40):\n",
    "    rate = Atlas.Dual(startRate + random.random()*0.01)\n",
    "    tape.registerInput(rate) # we need to register the input to the tape for later use\n",
    "    rates.append(rate)\n",
    "    t.append(i*dt)\n",
    "    dates.append(evalDate + int(i*180))\n",
    "\n",
    "tape.newRecording() # start recording, for later use\n",
    "\n",
    "# define curve\n",
    "curveDayCounter = Atlas.Actual360()\n",
    "curveCompounding = Atlas.Simple\n",
    "curveFrequency = Atlas.Annual\n",
    "\n",
    "strategy = Atlas.ZeroRateLinearStrategy(dates, rates)\n",
    "curve = Atlas.YieldTermStructure(strategy)\n",
    "index = Atlas.RateIndex(evalDate, curveFrequency, curveDayCounter, curveFrequency, curveCompounding)\n",
    "store.addCurve(\"CLF\", curve, index)"
   ]
  },
  {
   "attachments": {},
   "cell_type": "markdown",
   "metadata": {},
   "source": [
    "### Portfolio Setup\n",
    "\n",
    "We create a random porfolio of ```FixFloatSwap```, with long and short positions. For simplicity, all trades start today, otherwise we would need to add fixing rates inside the ```RateIndex``` object -a must in a more realistic scenario-."
   ]
  },
  {
   "cell_type": "code",
   "execution_count": 14,
   "metadata": {},
   "outputs": [],
   "source": [
    "## set seed\n",
    "random.seed(1234)\n",
    "def generateInstruments(numInstruments):\n",
    "    instruments = []\n",
    "    for i in tqdm(range(numInstruments)):\n",
    "        # Generate random start and end dates\n",
    "        startYear = random.randint(2010, 2020)\n",
    "        endYear = random.randint(2021, 2035)\n",
    "        startDate = Atlas.Date(1, Atlas.August, startYear)\n",
    "        endDate = Atlas.Date(1, Atlas.August, endYear)\n",
    "        \n",
    "        # Create the instrument with random parameters\n",
    "        rateValue = Atlas.Dual(random.uniform(0.01, 0.1))\n",
    "        dayCounter = Atlas.Thirty360()\n",
    "        compounding = Atlas.Compounded\n",
    "        frequency = Atlas.Annual\n",
    "        rate = Atlas.InterestRate(rateValue, dayCounter, compounding, frequency)\n",
    "\n",
    "        discountContext = store.curveContext(\"CLF\")\n",
    "        \n",
    "        notional = random.uniform(1_000, 10_000)\n",
    "        paymentFrequency = Atlas.Monthly\n",
    "        instrument = Atlas.EqualPaymentInstrument(startDate, endDate, paymentFrequency, notional, rate, discountContext)\n",
    "        instruments.append(instrument)\n",
    "    return instruments"
   ]
  },
  {
   "cell_type": "code",
   "execution_count": 15,
   "metadata": {},
   "outputs": [
    {
     "name": "stderr",
     "output_type": "stream",
     "text": [
      "100%|██████████| 15000/15000 [00:01<00:00, 7664.07it/s]\n"
     ]
    }
   ],
   "source": [
    "instruments = generateInstruments(15000)"
   ]
  },
  {
   "cell_type": "code",
   "execution_count": 16,
   "metadata": {},
   "outputs": [
    {
     "name": "stdout",
     "output_type": "stream",
     "text": [
      "Memory usage: 0.121432 MB\n"
     ]
    }
   ],
   "source": [
    "size = sys.getsizeof(instruments)\n",
    "print(f\"Memory usage: {size/1_000_000} MB\")"
   ]
  },
  {
   "attachments": {},
   "cell_type": "markdown",
   "metadata": {},
   "source": [
    "### Indexing and Pricing\n",
    "\n",
    "As always, we index the instruments, produce the market data points and price each instrument."
   ]
  },
  {
   "cell_type": "code",
   "execution_count": 17,
   "metadata": {},
   "outputs": [],
   "source": [
    "#indexing\n",
    "indexer = Atlas.Indexer()\n",
    "for inst in instruments:\n",
    "    indexer.visit(inst)\n",
    "request = indexer.request()\n",
    "\n",
    "#market data simulation\n",
    "model = Atlas.SpotMarketDataModel(request, store)\n",
    "marketData = model.marketData(evalDate)"
   ]
  },
  {
   "attachments": {},
   "cell_type": "markdown",
   "metadata": {},
   "source": [
    "We calculate the NPV of the portfolio."
   ]
  },
  {
   "cell_type": "code",
   "execution_count": 18,
   "metadata": {},
   "outputs": [
    {
     "name": "stdout",
     "output_type": "stream",
     "text": [
      "NPV:  Dual(67139273.329363)\n"
     ]
    }
   ],
   "source": [
    "npv = Atlas.Dual(0.0)\n",
    "tape.registerOutput(npv)\n",
    "npvCalculator = Atlas.NPVCalculator(marketData)\n",
    "\n",
    "for inst in instruments:\n",
    "    npvCalculator.visit(inst)\n",
    "\n",
    "npv = npvCalculator.results()\n",
    "print(\"NPV: \", npv)"
   ]
  },
  {
   "attachments": {},
   "cell_type": "markdown",
   "metadata": {},
   "source": [
    "### Sensitivities\n",
    "\n",
    "We calculate the sensitivities using the tape. First we seed and then compute the adjoints. Sensitivies to each rate are recovered by the ```getDerivatives``` method."
   ]
  },
  {
   "cell_type": "code",
   "execution_count": 19,
   "metadata": {},
   "outputs": [],
   "source": [
    "npv.setDerivative(0.01)\n",
    "tape.computeAdjoints()"
   ]
  },
  {
   "cell_type": "code",
   "execution_count": 20,
   "metadata": {},
   "outputs": [
    {
     "data": {
      "text/html": [
       "<div>\n",
       "<style scoped>\n",
       "    .dataframe tbody tr th:only-of-type {\n",
       "        vertical-align: middle;\n",
       "    }\n",
       "\n",
       "    .dataframe tbody tr th {\n",
       "        vertical-align: top;\n",
       "    }\n",
       "\n",
       "    .dataframe thead th {\n",
       "        text-align: right;\n",
       "    }\n",
       "</style>\n",
       "<table border=\"1\" class=\"dataframe\">\n",
       "  <thead>\n",
       "    <tr style=\"text-align: right;\">\n",
       "      <th>Date</th>\n",
       "      <th>0.0</th>\n",
       "      <th>0.5</th>\n",
       "      <th>1.0</th>\n",
       "      <th>1.5</th>\n",
       "      <th>2.0</th>\n",
       "      <th>2.5</th>\n",
       "      <th>3.0</th>\n",
       "      <th>3.5</th>\n",
       "      <th>4.0</th>\n",
       "      <th>4.5</th>\n",
       "      <th>...</th>\n",
       "      <th>15.0</th>\n",
       "      <th>15.5</th>\n",
       "      <th>16.0</th>\n",
       "      <th>16.5</th>\n",
       "      <th>17.0</th>\n",
       "      <th>17.5</th>\n",
       "      <th>18.0</th>\n",
       "      <th>18.5</th>\n",
       "      <th>19.0</th>\n",
       "      <th>19.5</th>\n",
       "    </tr>\n",
       "  </thead>\n",
       "  <tbody>\n",
       "    <tr>\n",
       "      <th>Sensitivity</th>\n",
       "      <td>-4442.8555</td>\n",
       "      <td>-27272.7473</td>\n",
       "      <td>-48971.6281</td>\n",
       "      <td>-66750.3056</td>\n",
       "      <td>-83505.7128</td>\n",
       "      <td>-94529.921</td>\n",
       "      <td>-107357.5179</td>\n",
       "      <td>-111780.4021</td>\n",
       "      <td>-121005.654</td>\n",
       "      <td>-122044.7226</td>\n",
       "      <td>...</td>\n",
       "      <td>-19563.4884</td>\n",
       "      <td>-2968.1053</td>\n",
       "      <td>0.0</td>\n",
       "      <td>0.0</td>\n",
       "      <td>0.0</td>\n",
       "      <td>0.0</td>\n",
       "      <td>0.0</td>\n",
       "      <td>0.0</td>\n",
       "      <td>0.0</td>\n",
       "      <td>0.0</td>\n",
       "    </tr>\n",
       "  </tbody>\n",
       "</table>\n",
       "<p>1 rows × 40 columns</p>\n",
       "</div>"
      ],
      "text/plain": [
       "Date              0.0         0.5         1.0         1.5         2.0   \\\n",
       "Sensitivity -4442.8555 -27272.7473 -48971.6281 -66750.3056 -83505.7128   \n",
       "\n",
       "Date              2.5          3.0          3.5         4.0          4.5   \\\n",
       "Sensitivity -94529.921 -107357.5179 -111780.4021 -121005.654 -122044.7226   \n",
       "\n",
       "Date         ...        15.0       15.5  16.0  16.5  17.0  17.5  18.0  18.5  \\\n",
       "Sensitivity  ... -19563.4884 -2968.1053   0.0   0.0   0.0   0.0   0.0   0.0   \n",
       "\n",
       "Date         19.0  19.5  \n",
       "Sensitivity   0.0   0.0  \n",
       "\n",
       "[1 rows x 40 columns]"
      ]
     },
     "execution_count": 20,
     "metadata": {},
     "output_type": "execute_result"
    }
   ],
   "source": [
    "sens = {}\n",
    "for dt, rate in zip(t, rates):\n",
    "    sens[dt] = round(rate.getDerivative(), 4)\n",
    "\n",
    "df = pd.DataFrame.from_dict(sens, orient='index', columns=['Sensitivity'])\n",
    "df.index.name = 'Date'\n",
    "df.T"
   ]
  }
 ],
 "metadata": {
  "kernelspec": {
   "display_name": "Python 3",
   "language": "python",
   "name": "python3"
  },
  "language_info": {
   "codemirror_mode": {
    "name": "ipython",
    "version": 3
   },
   "file_extension": ".py",
   "mimetype": "text/x-python",
   "name": "python",
   "nbconvert_exporter": "python",
   "pygments_lexer": "ipython3",
   "version": "3.10.10"
  },
  "orig_nbformat": 4
 },
 "nbformat": 4,
 "nbformat_minor": 2
}
